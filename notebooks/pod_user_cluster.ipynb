{
 "cells": [
  {
   "cell_type": "code",
   "execution_count": 1,
   "metadata": {},
   "outputs": [],
   "source": [
    "import os\n",
    "\n",
    "import matplotlib.pyplot as plt\n",
    "import pandas as pd\n",
    "import scipy.sparse as ss\n",
    "import numpy as np\n",
    "from sklearn.decomposition import TruncatedSVD, PCA\n",
    "from sklearn.preprocessing import normalize\n",
    "from sklearn.base import BaseEstimator\n",
    "from sklearn.utils import check_array\n",
    "from sklearn.cluster import DBSCAN, KMeans\n",
    "from sklearn.manifold import TSNE\n",
    "from os.path import isfile\n",
    "import subprocess"
   ]
  },
  {
   "cell_type": "code",
   "execution_count": 2,
   "metadata": {},
   "outputs": [],
   "source": [
    "data_dir = '/home/ed/github/pod_tweets/follower_ids/'\n",
    "pod_list = os.listdir(data_dir)\n",
    "num_pods = len(pod_list)"
   ]
  },
  {
   "cell_type": "code",
   "execution_count": 3,
   "metadata": {},
   "outputs": [],
   "source": [
    "def calc_common_usrs(data_dir, pod1, pod2):\n",
    "    pod_list1 = [line.rstrip('\\n') for line in open(data_dir + pod1)]\n",
    "    pod_list1.pop(0)\n",
    "    pod_list2 = [line.rstrip('\\n') for line in open(data_dir + pod2)]\n",
    "    pod_list2.pop(0)\n",
    "    num_same = set(pod_list1) & set(pod_list2)\n",
    "    return len(num_same), len(pod_list1), len(pod_list2)"
   ]
  },
  {
   "cell_type": "code",
   "execution_count": 4,
   "metadata": {
    "scrolled": true
   },
   "outputs": [
    {
     "name": "stdout",
     "output_type": "stream",
     "text": [
      "185:186 of 187\r"
     ]
    },
    {
     "data": {
      "text/html": [
       "<div>\n",
       "<style scoped>\n",
       "    .dataframe tbody tr th:only-of-type {\n",
       "        vertical-align: middle;\n",
       "    }\n",
       "\n",
       "    .dataframe tbody tr th {\n",
       "        vertical-align: top;\n",
       "    }\n",
       "\n",
       "    .dataframe thead th {\n",
       "        text-align: right;\n",
       "    }\n",
       "</style>\n",
       "<table border=\"1\" class=\"dataframe\">\n",
       "  <thead>\n",
       "    <tr style=\"text-align: right;\">\n",
       "      <th></th>\n",
       "      <th>podcast_1</th>\n",
       "      <th>podcast_2</th>\n",
       "      <th>comm_users</th>\n",
       "    </tr>\n",
       "  </thead>\n",
       "  <tbody>\n",
       "    <tr>\n",
       "      <th>0</th>\n",
       "      <td>TheMinimalistsPodcast.csv</td>\n",
       "      <td>WithFriendsLikeThese.csv</td>\n",
       "      <td>34</td>\n",
       "    </tr>\n",
       "    <tr>\n",
       "      <th>1</th>\n",
       "      <td>TheMinimalistsPodcast.csv</td>\n",
       "      <td>AndThatsWhyWeDrink.csv</td>\n",
       "      <td>10</td>\n",
       "    </tr>\n",
       "    <tr>\n",
       "      <th>2</th>\n",
       "      <td>TheMinimalistsPodcast.csv</td>\n",
       "      <td>AlisonRosenIsYourNewBestFriend.csv</td>\n",
       "      <td>11</td>\n",
       "    </tr>\n",
       "    <tr>\n",
       "      <th>3</th>\n",
       "      <td>TheMinimalistsPodcast.csv</td>\n",
       "      <td>IAMRAPAPORTSTEREOPODCAST.csv</td>\n",
       "      <td>11</td>\n",
       "    </tr>\n",
       "    <tr>\n",
       "      <th>4</th>\n",
       "      <td>TheMinimalistsPodcast.csv</td>\n",
       "      <td>AliceIsntDead.csv</td>\n",
       "      <td>6</td>\n",
       "    </tr>\n",
       "    <tr>\n",
       "      <th>...</th>\n",
       "      <td>...</td>\n",
       "      <td>...</td>\n",
       "      <td>...</td>\n",
       "    </tr>\n",
       "    <tr>\n",
       "      <th>17386</th>\n",
       "      <td>thememorypalace.csv</td>\n",
       "      <td>TheBenandAshleyIAlmostFamousPodcast.csv</td>\n",
       "      <td>2</td>\n",
       "    </tr>\n",
       "    <tr>\n",
       "      <th>17387</th>\n",
       "      <td>thememorypalace.csv</td>\n",
       "      <td>SomethingtoWrestlewithBrucePrichard.csv</td>\n",
       "      <td>7</td>\n",
       "    </tr>\n",
       "    <tr>\n",
       "      <th>17388</th>\n",
       "      <td>TheJordanBPetersonPodcast.csv</td>\n",
       "      <td>TheBenandAshleyIAlmostFamousPodcast.csv</td>\n",
       "      <td>6</td>\n",
       "    </tr>\n",
       "    <tr>\n",
       "      <th>17389</th>\n",
       "      <td>TheJordanBPetersonPodcast.csv</td>\n",
       "      <td>SomethingtoWrestlewithBrucePrichard.csv</td>\n",
       "      <td>16</td>\n",
       "    </tr>\n",
       "    <tr>\n",
       "      <th>17390</th>\n",
       "      <td>TheBenandAshleyIAlmostFamousPodcast.csv</td>\n",
       "      <td>SomethingtoWrestlewithBrucePrichard.csv</td>\n",
       "      <td>8</td>\n",
       "    </tr>\n",
       "  </tbody>\n",
       "</table>\n",
       "<p>17391 rows × 3 columns</p>\n",
       "</div>"
      ],
      "text/plain": [
       "                                     podcast_1  \\\n",
       "0                    TheMinimalistsPodcast.csv   \n",
       "1                    TheMinimalistsPodcast.csv   \n",
       "2                    TheMinimalistsPodcast.csv   \n",
       "3                    TheMinimalistsPodcast.csv   \n",
       "4                    TheMinimalistsPodcast.csv   \n",
       "...                                        ...   \n",
       "17386                      thememorypalace.csv   \n",
       "17387                      thememorypalace.csv   \n",
       "17388            TheJordanBPetersonPodcast.csv   \n",
       "17389            TheJordanBPetersonPodcast.csv   \n",
       "17390  TheBenandAshleyIAlmostFamousPodcast.csv   \n",
       "\n",
       "                                     podcast_2 comm_users  \n",
       "0                     WithFriendsLikeThese.csv         34  \n",
       "1                       AndThatsWhyWeDrink.csv         10  \n",
       "2           AlisonRosenIsYourNewBestFriend.csv         11  \n",
       "3                 IAMRAPAPORTSTEREOPODCAST.csv         11  \n",
       "4                            AliceIsntDead.csv          6  \n",
       "...                                        ...        ...  \n",
       "17386  TheBenandAshleyIAlmostFamousPodcast.csv          2  \n",
       "17387  SomethingtoWrestlewithBrucePrichard.csv          7  \n",
       "17388  TheBenandAshleyIAlmostFamousPodcast.csv          6  \n",
       "17389  SomethingtoWrestlewithBrucePrichard.csv         16  \n",
       "17390  SomethingtoWrestlewithBrucePrichard.csv          8  \n",
       "\n",
       "[17391 rows x 3 columns]"
      ]
     },
     "execution_count": 4,
     "metadata": {},
     "output_type": "execute_result"
    }
   ],
   "source": [
    "pod_common_usrs = pd.DataFrame(columns = ['podcast_1', 'podcast_2', 'comm_users'])\n",
    "pod_popularity = pd.DataFrame(pod_list, columns=['podcast'])\n",
    "pod_popularity['followers'] = 0\n",
    "pod_popularity = pod_popularity.set_index('podcast')\n",
    "\n",
    "for x1 in range(num_pods):\n",
    "    for x2 in range(x1+1, num_pods):\n",
    "        print('{}:{} of {}'.format(x1, x2, num_pods), end='\\r', flush=True)\n",
    "        comm_num, pod_x1, pod_x2 = calc_common_usrs(data_dir, pod_list[x1], pod_list[x2])\n",
    "        pod_common_usrs.loc[len(pod_common_usrs)] = [pod_list[x1], pod_list[x2], comm_num]\n",
    "        pod_popularity.at[pod_list[x1], 'followers'] = pod_x1\n",
    "        pod_popularity.at[pod_list[x2], 'followers'] = pod_x2\n",
    "pod_common_usrs"
   ]
  },
  {
   "cell_type": "code",
   "execution_count": 5,
   "metadata": {},
   "outputs": [],
   "source": [
    "pod_common_usrs.to_csv('pod_common_users223.csv')"
   ]
  },
  {
   "cell_type": "code",
   "execution_count": 30,
   "metadata": {},
   "outputs": [
    {
     "data": {
      "text/plain": [
       "2058"
      ]
     },
     "execution_count": 30,
     "metadata": {},
     "output_type": "execute_result"
    }
   ],
   "source": [
    "df = pod_common_usrs[pod_common_usrs['podcast_1'] == 'KnowledgeFight' + '.csv']\n",
    "df = df[df['podcast_2'] == 'BehindtheBastards' + '.csv']\n",
    "X = df['comm_users'].tolist()\n",
    "\n",
    "if not X:\n",
    "    df = pod_common_usrs[pod_common_usrs['podcast_1'] == 'BehindtheBastards' + '.csv']\n",
    "    df = df[df['podcast_2'] == 'KnowledgeFight' + '.csv']\n",
    "    X = df['comm_users'].tolist()\n",
    "\n",
    "comm_users = X[0]\n",
    "comm_users"
   ]
  },
  {
   "cell_type": "code",
   "execution_count": 5,
   "metadata": {
    "scrolled": true
   },
   "outputs": [
    {
     "data": {
      "text/plain": [
       "array(['60Minutes.csv', '48Hours.csv', '1A.csv', '99Invisible.csv',\n",
       "       'BehindtheBastards.csv', '83WeekswithEricBischoff.csv',\n",
       "       'AccidentalTechPodcast.csv', 'JudgeJohnHodgman.csv',\n",
       "       'CLUBLIFE.csv', 'AndThatsWhyWeDrink.csv'], dtype=object)"
      ]
     },
     "execution_count": 5,
     "metadata": {},
     "output_type": "execute_result"
    }
   ],
   "source": [
    "pod_popularity = pod_popularity.sort_values(by='followers', ascending=False)\n",
    "pod_pop_arr = np.array(pod_popularity.index)\n",
    "pod_pop_arr[:10]"
   ]
  },
  {
   "cell_type": "code",
   "execution_count": 6,
   "metadata": {
    "scrolled": false
   },
   "outputs": [],
   "source": [
    "index_map = dict(np.vstack([pod_pop_arr, np.arange(pod_pop_arr.shape[0])]).T)\n",
    "# index_map  # dict of key:value == pod:rank"
   ]
  },
  {
   "cell_type": "code",
   "execution_count": 7,
   "metadata": {},
   "outputs": [
    {
     "data": {
      "text/plain": [
       "<71x71 sparse matrix of type '<class 'numpy.float64'>'\n",
       "\twith 2485 stored elements in COOrdinate format>"
      ]
     },
     "execution_count": 7,
     "metadata": {},
     "output_type": "execute_result"
    }
   ],
   "source": [
    "count_matrix = ss.coo_matrix((pod_common_usrs.comm_users, \n",
    "                              (pod_common_usrs.podcast_2.map(index_map),\n",
    "                               pod_common_usrs.podcast_1.map(index_map))),\n",
    "                             shape=(pod_pop_arr.shape[0], pod_pop_arr.shape[0]),\n",
    "                             dtype=np.float64)\n",
    "count_matrix"
   ]
  },
  {
   "cell_type": "code",
   "execution_count": 8,
   "metadata": {},
   "outputs": [
    {
     "data": {
      "text/plain": [
       "<71x71 sparse matrix of type '<class 'numpy.float64'>'\n",
       "\twith 2485 stored elements in Compressed Sparse Row format>"
      ]
     },
     "execution_count": 8,
     "metadata": {},
     "output_type": "execute_result"
    }
   ],
   "source": [
    "conditional_prob_matrix = count_matrix.tocsr()\n",
    "conditional_prob_matrix = normalize(conditional_prob_matrix, norm='l1', copy=False)\n",
    "conditional_prob_matrix"
   ]
  },
  {
   "cell_type": "code",
   "execution_count": 9,
   "metadata": {},
   "outputs": [
    {
     "data": {
      "text/plain": [
       "array([[-0.1489858 ,  0.9888393 ],\n",
       "       [ 0.46112198, -0.8873368 ],\n",
       "       [ 0.537233  , -0.8434339 ],\n",
       "       [ 0.9025458 , -0.43059394],\n",
       "       [ 0.6942723 ,  0.7197124 ],\n",
       "       [-0.6147831 , -0.7886962 ],\n",
       "       [ 0.11583471,  0.9932685 ],\n",
       "       [ 0.45443904,  0.8907778 ],\n",
       "       [-0.68658787, -0.7270469 ],\n",
       "       [-0.99997157, -0.00754079]], dtype=float32)"
      ]
     },
     "execution_count": 9,
     "metadata": {},
     "output_type": "execute_result"
    }
   ],
   "source": [
    "# reduced_vectors = TruncatedSVD(n_components=3, random_state=1).fit_transform(conditional_prob_matrix)\n",
    "# reduced_vectors = normalize(reduced_vectors, norm='l2', copy=False)\n",
    "# reduced_vectors\n",
    "\n",
    "reduced_vectors = TSNE(n_components=2, perplexity=10).fit_transform(conditional_prob_matrix)\n",
    "reduced_vectors = normalize(reduced_vectors, norm='l2', copy=False)\n",
    "reduced_vectors[:10]"
   ]
  },
  {
   "cell_type": "code",
   "execution_count": 10,
   "metadata": {},
   "outputs": [],
   "source": [
    "# from joblib import dump, load\n",
    "\n",
    "# resources_dir = '/home/ed/github/pod_tweets/resources/'\n",
    "\n",
    "# data_dump = resources_dir + '20190402_data.joblib'\n",
    "# reduced_data = load(data_dump)"
   ]
  },
  {
   "cell_type": "code",
   "execution_count": 11,
   "metadata": {},
   "outputs": [
    {
     "data": {
      "text/plain": [
       "KMeans(algorithm='auto', copy_x=True, init='k-means++', max_iter=300,\n",
       "       n_clusters=5, n_init=10, n_jobs=None, precompute_distances='auto',\n",
       "       random_state=None, tol=0.0001, verbose=0)"
      ]
     },
     "execution_count": 11,
     "metadata": {},
     "output_type": "execute_result"
    }
   ],
   "source": [
    "reduced_data = TruncatedSVD(n_components=2).fit_transform(conditional_prob_matrix)\n",
    "kmeans = KMeans(init='k-means++', n_clusters=5, n_init=10)\n",
    "kmeans.fit(reduced_data)\n",
    "kmeans"
   ]
  },
  {
   "cell_type": "code",
   "execution_count": 12,
   "metadata": {},
   "outputs": [],
   "source": [
    "from joblib import dump, load\n",
    "\n",
    "resources_dir = '/home/ed/github/pod_tweets/resources/'\n",
    "\n",
    "# data_dump = resources_dir + '20190402_kmeans_data.joblib'\n",
    "# dump(reduced_data, data_dump)"
   ]
  },
  {
   "cell_type": "code",
   "execution_count": 18,
   "metadata": {},
   "outputs": [
    {
     "data": {
      "text/html": [
       "<div>\n",
       "<style scoped>\n",
       "    .dataframe tbody tr th:only-of-type {\n",
       "        vertical-align: middle;\n",
       "    }\n",
       "\n",
       "    .dataframe tbody tr th {\n",
       "        vertical-align: top;\n",
       "    }\n",
       "\n",
       "    .dataframe thead th {\n",
       "        text-align: right;\n",
       "    }\n",
       "</style>\n",
       "<table border=\"1\" class=\"dataframe\">\n",
       "  <thead>\n",
       "    <tr style=\"text-align: right;\">\n",
       "      <th></th>\n",
       "      <th>x</th>\n",
       "      <th>y</th>\n",
       "      <th>pod_name</th>\n",
       "    </tr>\n",
       "  </thead>\n",
       "  <tbody>\n",
       "    <tr>\n",
       "      <th>0</th>\n",
       "      <td>0.552553</td>\n",
       "      <td>-0.185663</td>\n",
       "      <td>1A</td>\n",
       "    </tr>\n",
       "    <tr>\n",
       "      <th>1</th>\n",
       "      <td>0.677453</td>\n",
       "      <td>-0.240004</td>\n",
       "      <td>1YearDailyAudioBible</td>\n",
       "    </tr>\n",
       "    <tr>\n",
       "      <th>2</th>\n",
       "      <td>0.266890</td>\n",
       "      <td>-0.034361</td>\n",
       "      <td>2DopeQueens</td>\n",
       "    </tr>\n",
       "    <tr>\n",
       "      <th>3</th>\n",
       "      <td>0.398905</td>\n",
       "      <td>-0.057144</td>\n",
       "      <td>30For30Podcasts</td>\n",
       "    </tr>\n",
       "    <tr>\n",
       "      <th>4</th>\n",
       "      <td>0.823851</td>\n",
       "      <td>-0.311455</td>\n",
       "      <td>48Hours</td>\n",
       "    </tr>\n",
       "  </tbody>\n",
       "</table>\n",
       "</div>"
      ],
      "text/plain": [
       "          x         y              pod_name\n",
       "0  0.552553 -0.185663                    1A\n",
       "1  0.677453 -0.240004  1YearDailyAudioBible\n",
       "2  0.266890 -0.034361           2DopeQueens\n",
       "3  0.398905 -0.057144       30For30Podcasts\n",
       "4  0.823851 -0.311455               48Hours"
      ]
     },
     "execution_count": 18,
     "metadata": {},
     "output_type": "execute_result"
    }
   ],
   "source": [
    "pod_space_df = pd.DataFrame(reduced_data, columns=('x', 'y'))\n",
    "pod_space_df['pod_name'] = pod_pop_arr\n",
    "pod_space_df['pod_name'] = pod_space_df.pod_name.str[:-4]\n",
    "pod_space_df = pod_space_df.sort_values(by='pod_name', ignore_index=True)\n",
    "pod_space_df.to_pickle(resources_dir + 'pod_space_df.pkl')\n",
    "pod_space_df.head()"
   ]
  },
  {
   "cell_type": "code",
   "execution_count": 19,
   "metadata": {},
   "outputs": [
    {
     "data": {
      "image/png": "[encoded data removed]",
      "text/plain": [
       "<Figure size 432x288 with 1 Axes>"
      ]
     },
     "metadata": {},
     "output_type": "display_data"
    }
   ],
   "source": [
    "# Step size of the mesh. Decrease to increase the quality of the VQ.\n",
    "h = .02     # point in the mesh [x_min, x_max]x[y_min, y_max].\n",
    "\n",
    "# Plot the decision boundary. For that, we will assign a color to each\n",
    "x_min, x_max = reduced_data[:, 0].min(), reduced_data[:, 0].max()\n",
    "y_min, y_max = reduced_data[:, 1].min(), reduced_data[:, 1].max()\n",
    "xx, yy = np.meshgrid(np.arange(x_min, x_max, h), np.arange(y_min, y_max, h))\n",
    "\n",
    "# Obtain labels for each point in mesh. Use last trained model.\n",
    "Z = kmeans.predict(np.c_[xx.ravel(), yy.ravel()])\n",
    "\n",
    "# Put the result into a color plot\n",
    "Z = Z.reshape(xx.shape)\n",
    "plt.figure(1)\n",
    "plt.clf()\n",
    "plt.imshow(Z, interpolation='nearest',\n",
    "           extent=(xx.min(), xx.max(), yy.min(), yy.max()),\n",
    "           cmap=plt.cm.Paired,\n",
    "           aspect='auto', origin='lower')\n",
    "\n",
    "plt.plot(reduced_data[:, 0], reduced_data[:, 1], 'k.', markersize=2)\n",
    "# Plot the centroids as a white X\n",
    "centroids = kmeans.cluster_centers_\n",
    "plt.scatter(centroids[:, 0], centroids[:, 1],\n",
    "            marker='x', s=169, linewidths=3,\n",
    "            color='w', zorder=10)\n",
    "plt.title('K-means clustering on the digits dataset (PCA-reduced data)\\n'\n",
    "          'Centroids are marked with white cross')\n",
    "plt.xlim(x_min, x_max)\n",
    "plt.ylim(y_min, y_max)\n",
    "plt.xticks(())\n",
    "plt.yticks(())\n",
    "plt.show()"
   ]
  },
  {
   "cell_type": "code",
   "execution_count": 57,
   "metadata": {},
   "outputs": [],
   "source": [
    "final_matrix = pd.read_pickle(resources_dir + 'final_matrix.pkl')\n",
    "\n",
    "topic_pkl = 'topic_matrix_202002121312.pkl'\n",
    "rank_pkl = 'rank_matrix_202002121312.pkl'\n",
    "\n",
    "topic_matrix = pd.read_pickle(resources_dir + topic_pkl)\n",
    "rank_matrix = pd.read_pickle(resources_dir + rank_pkl)\n",
    "\n",
    "pods_list = rank_matrix.columns.to_list()"
   ]
  },
  {
   "cell_type": "code",
   "execution_count": 47,
   "metadata": {},
   "outputs": [],
   "source": [
    "topic_matrix_norm = normalize(topic_matrix, norm='l2', copy=False)"
   ]
  },
  {
   "cell_type": "code",
   "execution_count": 58,
   "metadata": {},
   "outputs": [
    {
     "data": {
      "text/plain": [
       "array([[ 9.86421579e-01, -3.17292031e-04],\n",
       "       [ 9.63891623e-01, -6.90299231e-02],\n",
       "       [ 9.80093183e-01,  2.18914080e-02],\n",
       "       [ 9.73413509e-01, -8.12129892e-02],\n",
       "       [ 9.80334782e-01,  8.67905495e-02],\n",
       "       [ 9.85463436e-01, -2.60688330e-02],\n",
       "       [ 9.73922818e-01, -5.33995204e-02],\n",
       "       [ 9.87656448e-01,  2.61546781e-02],\n",
       "       [ 9.82389795e-01,  2.23062765e-02],\n",
       "       [ 9.86702962e-01, -9.76932553e-03]])"
      ]
     },
     "execution_count": 58,
     "metadata": {},
     "output_type": "execute_result"
    }
   ],
   "source": [
    "reduced_data = TruncatedSVD(n_components=2).fit_transform(topic_matrix_norm)\n",
    "reduced_data[:10]"
   ]
  },
  {
   "cell_type": "code",
   "execution_count": 59,
   "metadata": {},
   "outputs": [
    {
     "name": "stdout",
     "output_type": "stream",
     "text": [
      "num clusters = 2\n"
     ]
    },
    {
     "data": {
      "text/html": [
       "<div>\n",
       "<style scoped>\n",
       "    .dataframe tbody tr th:only-of-type {\n",
       "        vertical-align: middle;\n",
       "    }\n",
       "\n",
       "    .dataframe tbody tr th {\n",
       "        vertical-align: top;\n",
       "    }\n",
       "\n",
       "    .dataframe thead th {\n",
       "        text-align: right;\n",
       "    }\n",
       "</style>\n",
       "<table border=\"1\" class=\"dataframe\">\n",
       "  <thead>\n",
       "    <tr style=\"text-align: right;\">\n",
       "      <th></th>\n",
       "      <th>x</th>\n",
       "      <th>y</th>\n",
       "      <th>cluster</th>\n",
       "      <th>pod_name</th>\n",
       "    </tr>\n",
       "  </thead>\n",
       "  <tbody>\n",
       "    <tr>\n",
       "      <th>0</th>\n",
       "      <td>0.986422</td>\n",
       "      <td>-0.000317</td>\n",
       "      <td>0</td>\n",
       "      <td>1A</td>\n",
       "    </tr>\n",
       "    <tr>\n",
       "      <th>1</th>\n",
       "      <td>0.963892</td>\n",
       "      <td>-0.069030</td>\n",
       "      <td>-1</td>\n",
       "      <td>1YearDailyAudioBible</td>\n",
       "    </tr>\n",
       "    <tr>\n",
       "      <th>2</th>\n",
       "      <td>0.980093</td>\n",
       "      <td>0.021891</td>\n",
       "      <td>0</td>\n",
       "      <td>2DopeQueens</td>\n",
       "    </tr>\n",
       "    <tr>\n",
       "      <th>3</th>\n",
       "      <td>0.973414</td>\n",
       "      <td>-0.081213</td>\n",
       "      <td>-1</td>\n",
       "      <td>30For30Podcasts</td>\n",
       "    </tr>\n",
       "    <tr>\n",
       "      <th>4</th>\n",
       "      <td>0.980335</td>\n",
       "      <td>0.086791</td>\n",
       "      <td>-1</td>\n",
       "      <td>48Hours</td>\n",
       "    </tr>\n",
       "    <tr>\n",
       "      <th>...</th>\n",
       "      <td>...</td>\n",
       "      <td>...</td>\n",
       "      <td>...</td>\n",
       "      <td>...</td>\n",
       "    </tr>\n",
       "    <tr>\n",
       "      <th>66</th>\n",
       "      <td>0.981755</td>\n",
       "      <td>-0.068555</td>\n",
       "      <td>-1</td>\n",
       "      <td>KnowledgeFight</td>\n",
       "    </tr>\n",
       "    <tr>\n",
       "      <th>67</th>\n",
       "      <td>0.977815</td>\n",
       "      <td>-0.064137</td>\n",
       "      <td>-1</td>\n",
       "      <td>LadyGang</td>\n",
       "    </tr>\n",
       "    <tr>\n",
       "      <th>68</th>\n",
       "      <td>0.982049</td>\n",
       "      <td>-0.062191</td>\n",
       "      <td>-1</td>\n",
       "      <td>PlanetMoney</td>\n",
       "    </tr>\n",
       "    <tr>\n",
       "      <th>69</th>\n",
       "      <td>0.981492</td>\n",
       "      <td>0.005238</td>\n",
       "      <td>0</td>\n",
       "      <td>PodSaveAmerica</td>\n",
       "    </tr>\n",
       "    <tr>\n",
       "      <th>70</th>\n",
       "      <td>0.980234</td>\n",
       "      <td>0.068589</td>\n",
       "      <td>-1</td>\n",
       "      <td>SeincastASeinfeldPodcast</td>\n",
       "    </tr>\n",
       "  </tbody>\n",
       "</table>\n",
       "<p>71 rows × 4 columns</p>\n",
       "</div>"
      ],
      "text/plain": [
       "           x         y  cluster                  pod_name\n",
       "0   0.986422 -0.000317        0                        1A\n",
       "1   0.963892 -0.069030       -1      1YearDailyAudioBible\n",
       "2   0.980093  0.021891        0               2DopeQueens\n",
       "3   0.973414 -0.081213       -1           30For30Podcasts\n",
       "4   0.980335  0.086791       -1                   48Hours\n",
       "..       ...       ...      ...                       ...\n",
       "66  0.981755 -0.068555       -1            KnowledgeFight\n",
       "67  0.977815 -0.064137       -1                  LadyGang\n",
       "68  0.982049 -0.062191       -1               PlanetMoney\n",
       "69  0.981492  0.005238        0            PodSaveAmerica\n",
       "70  0.980234  0.068589       -1  SeincastASeinfeldPodcast\n",
       "\n",
       "[71 rows x 4 columns]"
      ]
     },
     "execution_count": 59,
     "metadata": {},
     "output_type": "execute_result"
    }
   ],
   "source": [
    "import hdbscan\n",
    "\n",
    "clustering_martrix = pd.DataFrame(reduced_data, columns=['x', 'y'])\n",
    "\n",
    "clusterer = hdbscan.HDBSCAN(min_samples=15, metric='manhattan', \n",
    "                            min_cluster_size=2).fit(clustering_martrix)\n",
    "cluster_ids = clusterer.labels_\n",
    "print('num clusters = {}'.format(clusterer.labels_.max()+1))\n",
    "\n",
    "clustering_martrix['cluster'] = cluster_ids\n",
    "clustering_martrix['pod_name'] = pods_list\n",
    "clustering_martrix"
   ]
  },
  {
   "cell_type": "code",
   "execution_count": 82,
   "metadata": {},
   "outputs": [
    {
     "data": {
      "text/plain": [
       "['/home/ed/github/pod_tweets/resources/20190402_hdbscan_data.joblib']"
      ]
     },
     "execution_count": 82,
     "metadata": {},
     "output_type": "execute_result"
    }
   ],
   "source": [
    "# data_dump = resources_dir + '20190402_hdbscan_data.joblib'\n",
    "# dump(pod_space_df, data_dump)"
   ]
  },
  {
   "cell_type": "code",
   "execution_count": 61,
   "metadata": {},
   "outputs": [
    {
     "data": {
      "text/html": [
       "\n",
       "    <div class=\"bk-root\">\n",
       "        <a href=\"https://bokeh.org\" target=\"_blank\" class=\"bk-logo bk-logo-small bk-logo-notebook\"></a>\n",
       "        <span id=\"1321\">Loading BokehJS ...</span>\n",
       "    </div>"
      ]
     },
     "metadata": {},
     "output_type": "display_data"
    },
    {
     "data": {
      "application/javascript": [
       "\n",
       "(function(root) {\n",
       "  function now() {\n",
       "    return new Date();\n",
       "  }\n",
       "\n",
       "  var force = true;\n",
       "\n",
       "  if (typeof root._bokeh_onload_callbacks === \"undefined\" || force === true) {\n",
       "    root._bokeh_onload_callbacks = [];\n",
       "    root._bokeh_is_loading = undefined;\n",
       "  }\n",
       "\n",
       "  var JS_MIME_TYPE = 'application/javascript';\n",
       "  var HTML_MIME_TYPE = 'text/html';\n",
       "  var EXEC_MIME_TYPE = 'application/vnd.bokehjs_exec.v0+json';\n",
       "  var CLASS_NAME = 'output_bokeh rendered_html';\n",
       "\n",
       "  /**\n",
       "   * Render data to the DOM node\n",
       "   */\n",
       "  function render(props, node) {\n",
       "    var script = document.createElement(\"script\");\n",
       "    node.appendChild(script);\n",
       "  }\n",
       "\n",
       "  /**\n",
       "   * Handle when an output is cleared or removed\n",
       "   */\n",
       "  function handleClearOutput(event, handle) {\n",
       "    var cell = handle.cell;\n",
       "\n",
       "    var id = cell.output_area._bokeh_element_id;\n",
       "    var server_id = cell.output_area._bokeh_server_id;\n",
       "    // Clean up Bokeh references\n",
       "    if (id != null && id in Bokeh.index) {\n",
       "      Bokeh.index[id].model.document.clear();\n",
       "      delete Bokeh.index[id];\n",
       "    }\n",
       "\n",
       "    if (server_id !== undefined) {\n",
       "      // Clean up Bokeh references\n",
       "      var cmd = \"from bokeh.io.state import curstate; print(curstate().uuid_to_server['\" + server_id + \"'].get_sessions()[0].document.roots[0]._id)\";\n",
       "      cell.notebook.kernel.execute(cmd, {\n",
       "        iopub: {\n",
       "          output: function(msg) {\n",
       "            var id = msg.content.text.trim();\n",
       "            if (id in Bokeh.index) {\n",
       "              Bokeh.index[id].model.document.clear();\n",
       "              delete Bokeh.index[id];\n",
       "            }\n",
       "          }\n",
       "        }\n",
       "      });\n",
       "      // Destroy server and session\n",
       "      var cmd = \"import bokeh.io.notebook as ion; ion.destroy_server('\" + server_id + \"')\";\n",
       "      cell.notebook.kernel.execute(cmd);\n",
       "    }\n",
       "  }\n",
       "\n",
       "  /**\n",
       "   * Handle when a new output is added\n",
       "   */\n",
       "  function handleAddOutput(event, handle) {\n",
       "    var output_area = handle.output_area;\n",
       "    var output = handle.output;\n",
       "\n",
       "    // limit handleAddOutput to display_data with EXEC_MIME_TYPE content only\n",
       "    if ((output.output_type != \"display_data\") || (!output.data.hasOwnProperty(EXEC_MIME_TYPE))) {\n",
       "      return\n",
       "    }\n",
       "\n",
       "    var toinsert = output_area.element.find(\".\" + CLASS_NAME.split(' ')[0]);\n",
       "\n",
       "    if (output.metadata[EXEC_MIME_TYPE][\"id\"] !== undefined) {\n",
       "      toinsert[toinsert.length - 1].firstChild.textContent = output.data[JS_MIME_TYPE];\n",
       "      // store reference to embed id on output_area\n",
       "      output_area._bokeh_element_id = output.metadata[EXEC_MIME_TYPE][\"id\"];\n",
       "    }\n",
       "    if (output.metadata[EXEC_MIME_TYPE][\"server_id\"] !== undefined) {\n",
       "      var bk_div = document.createElement(\"div\");\n",
       "      bk_div.innerHTML = output.data[HTML_MIME_TYPE];\n",
       "      var script_attrs = bk_div.children[0].attributes;\n",
       "      for (var i = 0; i < script_attrs.length; i++) {\n",
       "        toinsert[toinsert.length - 1].firstChild.setAttribute(script_attrs[i].name, script_attrs[i].value);\n",
       "      }\n",
       "      // store reference to server id on output_area\n",
       "      output_area._bokeh_server_id = output.metadata[EXEC_MIME_TYPE][\"server_id\"];\n",
       "    }\n",
       "  }\n",
       "\n",
       "  function register_renderer(events, OutputArea) {\n",
       "\n",
       "    function append_mime(data, metadata, element) {\n",
       "      // create a DOM node to render to\n",
       "      var toinsert = this.create_output_subarea(\n",
       "        metadata,\n",
       "        CLASS_NAME,\n",
       "        EXEC_MIME_TYPE\n",
       "      );\n",
       "      this.keyboard_manager.register_events(toinsert);\n",
       "      // Render to node\n",
       "      var props = {data: data, metadata: metadata[EXEC_MIME_TYPE]};\n",
       "      render(props, toinsert[toinsert.length - 1]);\n",
       "      element.append(toinsert);\n",
       "      return toinsert\n",
       "    }\n",
       "\n",
       "    /* Handle when an output is cleared or removed */\n",
       "    events.on('clear_output.CodeCell', handleClearOutput);\n",
       "    events.on('delete.Cell', handleClearOutput);\n",
       "\n",
       "    /* Handle when a new output is added */\n",
       "    events.on('output_added.OutputArea', handleAddOutput);\n",
       "\n",
       "    /**\n",
       "     * Register the mime type and append_mime function with output_area\n",
       "     */\n",
       "    OutputArea.prototype.register_mime_type(EXEC_MIME_TYPE, append_mime, {\n",
       "      /* Is output safe? */\n",
       "      safe: true,\n",
       "      /* Index of renderer in `output_area.display_order` */\n",
       "      index: 0\n",
       "    });\n",
       "  }\n",
       "\n",
       "  // register the mime type if in Jupyter Notebook environment and previously unregistered\n",
       "  if (root.Jupyter !== undefined) {\n",
       "    var events = require('base/js/events');\n",
       "    var OutputArea = require('notebook/js/outputarea').OutputArea;\n",
       "\n",
       "    if (OutputArea.prototype.mime_types().indexOf(EXEC_MIME_TYPE) == -1) {\n",
       "      register_renderer(events, OutputArea);\n",
       "    }\n",
       "  }\n",
       "\n",
       "  \n",
       "  if (typeof (root._bokeh_timeout) === \"undefined\" || force === true) {\n",
       "    root._bokeh_timeout = Date.now() + 5000;\n",
       "    root._bokeh_failed_load = false;\n",
       "  }\n",
       "\n",
       "  var NB_LOAD_WARNING = {'data': {'text/html':\n",
       "     \"<div style='background-color: #fdd'>\\n\"+\n",
       "     \"<p>\\n\"+\n",
       "     \"BokehJS does not appear to have successfully loaded. If loading BokehJS from CDN, this \\n\"+\n",
       "     \"may be due to a slow or bad network connection. Possible fixes:\\n\"+\n",
       "     \"</p>\\n\"+\n",
       "     \"<ul>\\n\"+\n",
       "     \"<li>re-rerun `output_notebook()` to attempt to load from CDN again, or</li>\\n\"+\n",
       "     \"<li>use INLINE resources instead, as so:</li>\\n\"+\n",
       "     \"</ul>\\n\"+\n",
       "     \"<code>\\n\"+\n",
       "     \"from bokeh.resources import INLINE\\n\"+\n",
       "     \"output_notebook(resources=INLINE)\\n\"+\n",
       "     \"</code>\\n\"+\n",
       "     \"</div>\"}};\n",
       "\n",
       "  function display_loaded() {\n",
       "    var el = document.getElementById(\"1321\");\n",
       "    if (el != null) {\n",
       "      el.textContent = \"BokehJS is loading...\";\n",
       "    }\n",
       "    if (root.Bokeh !== undefined) {\n",
       "      if (el != null) {\n",
       "        el.textContent = \"BokehJS \" + root.Bokeh.version + \" successfully loaded.\";\n",
       "      }\n",
       "    } else if (Date.now() < root._bokeh_timeout) {\n",
       "      setTimeout(display_loaded, 100)\n",
       "    }\n",
       "  }\n",
       "\n",
       "\n",
       "  function run_callbacks() {\n",
       "    try {\n",
       "      root._bokeh_onload_callbacks.forEach(function(callback) {\n",
       "        if (callback != null)\n",
       "          callback();\n",
       "      });\n",
       "    } finally {\n",
       "      delete root._bokeh_onload_callbacks\n",
       "    }\n",
       "    console.debug(\"Bokeh: all callbacks have finished\");\n",
       "  }\n",
       "\n",
       "  function load_libs(css_urls, js_urls, callback) {\n",
       "    if (css_urls == null) css_urls = [];\n",
       "    if (js_urls == null) js_urls = [];\n",
       "\n",
       "    root._bokeh_onload_callbacks.push(callback);\n",
       "    if (root._bokeh_is_loading > 0) {\n",
       "      console.debug(\"Bokeh: BokehJS is being loaded, scheduling callback at\", now());\n",
       "      return null;\n",
       "    }\n",
       "    if (js_urls == null || js_urls.length === 0) {\n",
       "      run_callbacks();\n",
       "      return null;\n",
       "    }\n",
       "    console.debug(\"Bokeh: BokehJS not loaded, scheduling load and callback at\", now());\n",
       "    root._bokeh_is_loading = css_urls.length + js_urls.length;\n",
       "\n",
       "    function on_load() {\n",
       "      root._bokeh_is_loading--;\n",
       "      if (root._bokeh_is_loading === 0) {\n",
       "        console.debug(\"Bokeh: all BokehJS libraries/stylesheets loaded\");\n",
       "        run_callbacks()\n",
       "      }\n",
       "    }\n",
       "\n",
       "    function on_error() {\n",
       "      console.error(\"failed to load \" + url);\n",
       "    }\n",
       "\n",
       "    for (var i = 0; i < css_urls.length; i++) {\n",
       "      var url = css_urls[i];\n",
       "      const element = document.createElement(\"link\");\n",
       "      element.onload = on_load;\n",
       "      element.onerror = on_error;\n",
       "      element.rel = \"stylesheet\";\n",
       "      element.type = \"text/css\";\n",
       "      element.href = url;\n",
       "      console.debug(\"Bokeh: injecting link tag for BokehJS stylesheet: \", url);\n",
       "      document.body.appendChild(element);\n",
       "    }\n",
       "\n",
       "    for (var i = 0; i < js_urls.length; i++) {\n",
       "      var url = js_urls[i];\n",
       "      var element = document.createElement('script');\n",
       "      element.onload = on_load;\n",
       "      element.onerror = on_error;\n",
       "      element.async = false;\n",
       "      element.src = url;\n",
       "      console.debug(\"Bokeh: injecting script tag for BokehJS library: \", url);\n",
       "      document.head.appendChild(element);\n",
       "    }\n",
       "  };var element = document.getElementById(\"1321\");\n",
       "  if (element == null) {\n",
       "    console.error(\"Bokeh: ERROR: autoload.js configured with elementid '1321' but no matching script tag was found. \")\n",
       "    return false;\n",
       "  }\n",
       "\n",
       "  function inject_raw_css(css) {\n",
       "    const element = document.createElement(\"style\");\n",
       "    element.appendChild(document.createTextNode(css));\n",
       "    document.body.appendChild(element);\n",
       "  }\n",
       "\n",
       "  \n",
       "  var js_urls = [\"https://cdn.pydata.org/bokeh/release/bokeh-1.4.0.min.js\", \"https://cdn.pydata.org/bokeh/release/bokeh-widgets-1.4.0.min.js\", \"https://cdn.pydata.org/bokeh/release/bokeh-tables-1.4.0.min.js\", \"https://cdn.pydata.org/bokeh/release/bokeh-gl-1.4.0.min.js\"];\n",
       "  var css_urls = [];\n",
       "  \n",
       "\n",
       "  var inline_js = [\n",
       "    function(Bokeh) {\n",
       "      Bokeh.set_log_level(\"info\");\n",
       "    },\n",
       "    function(Bokeh) {\n",
       "    \n",
       "    \n",
       "    }\n",
       "  ];\n",
       "\n",
       "  function run_inline_js() {\n",
       "    \n",
       "    if (root.Bokeh !== undefined || force === true) {\n",
       "      \n",
       "    for (var i = 0; i < inline_js.length; i++) {\n",
       "      inline_js[i].call(root, root.Bokeh);\n",
       "    }\n",
       "    if (force === true) {\n",
       "        display_loaded();\n",
       "      }} else if (Date.now() < root._bokeh_timeout) {\n",
       "      setTimeout(run_inline_js, 100);\n",
       "    } else if (!root._bokeh_failed_load) {\n",
       "      console.log(\"Bokeh: BokehJS failed to load within specified timeout.\");\n",
       "      root._bokeh_failed_load = true;\n",
       "    } else if (force !== true) {\n",
       "      var cell = $(document.getElementById(\"1321\")).parents('.cell').data().cell;\n",
       "      cell.output_area.append_execute_result(NB_LOAD_WARNING)\n",
       "    }\n",
       "\n",
       "  }\n",
       "\n",
       "  if (root._bokeh_is_loading === 0) {\n",
       "    console.debug(\"Bokeh: BokehJS loaded, going straight to plotting\");\n",
       "    run_inline_js();\n",
       "  } else {\n",
       "    load_libs(css_urls, js_urls, function() {\n",
       "      console.debug(\"Bokeh: BokehJS plotting callback run at\", now());\n",
       "      run_inline_js();\n",
       "    });\n",
       "  }\n",
       "}(window));"
      ],
      "application/vnd.bokehjs_load.v0+json": "\n(function(root) {\n  function now() {\n    return new Date();\n  }\n\n  var force = true;\n\n  if (typeof root._bokeh_onload_callbacks === \"undefined\" || force === true) {\n    root._bokeh_onload_callbacks = [];\n    root._bokeh_is_loading = undefined;\n  }\n\n  \n\n  \n  if (typeof (root._bokeh_timeout) === \"undefined\" || force === true) {\n    root._bokeh_timeout = Date.now() + 5000;\n    root._bokeh_failed_load = false;\n  }\n\n  var NB_LOAD_WARNING = {'data': {'text/html':\n     \"<div style='background-color: #fdd'>\\n\"+\n     \"<p>\\n\"+\n     \"BokehJS does not appear to have successfully loaded. If loading BokehJS from CDN, this \\n\"+\n     \"may be due to a slow or bad network connection. Possible fixes:\\n\"+\n     \"</p>\\n\"+\n     \"<ul>\\n\"+\n     \"<li>re-rerun `output_notebook()` to attempt to load from CDN again, or</li>\\n\"+\n     \"<li>use INLINE resources instead, as so:</li>\\n\"+\n     \"</ul>\\n\"+\n     \"<code>\\n\"+\n     \"from bokeh.resources import INLINE\\n\"+\n     \"output_notebook(resources=INLINE)\\n\"+\n     \"</code>\\n\"+\n     \"</div>\"}};\n\n  function display_loaded() {\n    var el = document.getElementById(\"1321\");\n    if (el != null) {\n      el.textContent = \"BokehJS is loading...\";\n    }\n    if (root.Bokeh !== undefined) {\n      if (el != null) {\n        el.textContent = \"BokehJS \" + root.Bokeh.version + \" successfully loaded.\";\n      }\n    } else if (Date.now() < root._bokeh_timeout) {\n      setTimeout(display_loaded, 100)\n    }\n  }\n\n\n  function run_callbacks() {\n    try {\n      root._bokeh_onload_callbacks.forEach(function(callback) {\n        if (callback != null)\n          callback();\n      });\n    } finally {\n      delete root._bokeh_onload_callbacks\n    }\n    console.debug(\"Bokeh: all callbacks have finished\");\n  }\n\n  function load_libs(css_urls, js_urls, callback) {\n    if (css_urls == null) css_urls = [];\n    if (js_urls == null) js_urls = [];\n\n    root._bokeh_onload_callbacks.push(callback);\n    if (root._bokeh_is_loading > 0) {\n      console.debug(\"Bokeh: BokehJS is being loaded, scheduling callback at\", now());\n      return null;\n    }\n    if (js_urls == null || js_urls.length === 0) {\n      run_callbacks();\n      return null;\n    }\n    console.debug(\"Bokeh: BokehJS not loaded, scheduling load and callback at\", now());\n    root._bokeh_is_loading = css_urls.length + js_urls.length;\n\n    function on_load() {\n      root._bokeh_is_loading--;\n      if (root._bokeh_is_loading === 0) {\n        console.debug(\"Bokeh: all BokehJS libraries/stylesheets loaded\");\n        run_callbacks()\n      }\n    }\n\n    function on_error() {\n      console.error(\"failed to load \" + url);\n    }\n\n    for (var i = 0; i < css_urls.length; i++) {\n      var url = css_urls[i];\n      const element = document.createElement(\"link\");\n      element.onload = on_load;\n      element.onerror = on_error;\n      element.rel = \"stylesheet\";\n      element.type = \"text/css\";\n      element.href = url;\n      console.debug(\"Bokeh: injecting link tag for BokehJS stylesheet: \", url);\n      document.body.appendChild(element);\n    }\n\n    for (var i = 0; i < js_urls.length; i++) {\n      var url = js_urls[i];\n      var element = document.createElement('script');\n      element.onload = on_load;\n      element.onerror = on_error;\n      element.async = false;\n      element.src = url;\n      console.debug(\"Bokeh: injecting script tag for BokehJS library: \", url);\n      document.head.appendChild(element);\n    }\n  };var element = document.getElementById(\"1321\");\n  if (element == null) {\n    console.error(\"Bokeh: ERROR: autoload.js configured with elementid '1321' but no matching script tag was found. \")\n    return false;\n  }\n\n  function inject_raw_css(css) {\n    const element = document.createElement(\"style\");\n    element.appendChild(document.createTextNode(css));\n    document.body.appendChild(element);\n  }\n\n  \n  var js_urls = [\"https://cdn.pydata.org/bokeh/release/bokeh-1.4.0.min.js\", \"https://cdn.pydata.org/bokeh/release/bokeh-widgets-1.4.0.min.js\", \"https://cdn.pydata.org/bokeh/release/bokeh-tables-1.4.0.min.js\", \"https://cdn.pydata.org/bokeh/release/bokeh-gl-1.4.0.min.js\"];\n  var css_urls = [];\n  \n\n  var inline_js = [\n    function(Bokeh) {\n      Bokeh.set_log_level(\"info\");\n    },\n    function(Bokeh) {\n    \n    \n    }\n  ];\n\n  function run_inline_js() {\n    \n    if (root.Bokeh !== undefined || force === true) {\n      \n    for (var i = 0; i < inline_js.length; i++) {\n      inline_js[i].call(root, root.Bokeh);\n    }\n    if (force === true) {\n        display_loaded();\n      }} else if (Date.now() < root._bokeh_timeout) {\n      setTimeout(run_inline_js, 100);\n    } else if (!root._bokeh_failed_load) {\n      console.log(\"Bokeh: BokehJS failed to load within specified timeout.\");\n      root._bokeh_failed_load = true;\n    } else if (force !== true) {\n      var cell = $(document.getElementById(\"1321\")).parents('.cell').data().cell;\n      cell.output_area.append_execute_result(NB_LOAD_WARNING)\n    }\n\n  }\n\n  if (root._bokeh_is_loading === 0) {\n    console.debug(\"Bokeh: BokehJS loaded, going straight to plotting\");\n    run_inline_js();\n  } else {\n    load_libs(css_urls, js_urls, function() {\n      console.debug(\"Bokeh: BokehJS plotting callback run at\", now());\n      run_inline_js();\n    });\n  }\n}(window));"
     },
     "metadata": {},
     "output_type": "display_data"
    }
   ],
   "source": [
    "from bokeh.plotting import figure, show, output_notebook, output_file\n",
    "from bokeh.models import HoverTool, ColumnDataSource, CustomJS, value\n",
    "from bokeh.models.mappers import LinearColorMapper\n",
    "from bokeh.palettes import plasma\n",
    "from collections import OrderedDict\n",
    "\n",
    "output_notebook()"
   ]
  },
  {
   "cell_type": "code",
   "execution_count": 63,
   "metadata": {},
   "outputs": [],
   "source": [
    "# Construct a color palette and map clusters to colors\n",
    "palette = ['#777777'] + plasma(cluster_ids.max())\n",
    "colormap = LinearColorMapper(palette=palette, low=-1, high=cluster_ids.max())\n",
    "color_dict = {'field': 'cluster', 'transform': colormap}\n",
    "\n",
    "# Set fill alpha globally\n",
    "clustering_martrix['fill_alpha'] = np.exp((reduced_data.min() - \n",
    "                                     reduced_data.max()) / 5.0) + 0.05\n",
    "\n",
    "# Build a column data source\n",
    "plot_data = ColumnDataSource(pod_space_df)\n",
    "\n",
    "# Custom callback for alpha adjustment\n",
    "jscode=\"\"\"\n",
    "    var data = source.data;\n",
    "    var start = cb_obj.start;\n",
    "    var end = cb_obj.end;\n",
    "    alpha = data['fill_alpha']\n",
    "    for (i = 0; i < alpha.length; i++) {\n",
    "         alpha[i] = Math.exp((start - end) / 5.0) + 0.05;\n",
    "    }\n",
    "    source.trigger('change');\n",
    "\"\"\"\n",
    "\n",
    "# Create the figure and add tools\n",
    "bokeh_figure = figure(title='A Map of PodSpace',\n",
    "                   plot_width = 700,\n",
    "                   plot_height = 700,\n",
    "                   tools=('pan, wheel_zoom, box_zoom, box_select, reset'),\n",
    "                   active_scroll=u'wheel_zoom')\n",
    "\n",
    "bokeh_figure.add_tools( HoverTool(tooltips = OrderedDict([('pod_name', '@pod_name'),\n",
    "                                                       ('cluster', '@cluster')])))\n",
    "\n",
    "# draw the podcasts as circles on the plot\n",
    "bokeh_figure.circle(u'x', u'y', source=plot_data,\n",
    "                 fill_color=color_dict, line_color=None, fill_alpha='fill_alpha',\n",
    "                 size=10, hover_line_color=u'black')\n",
    "\n",
    "# bokeh_figure.x_range.callback = CustomJS(args=dict(source=plot_data), code=jscode)\n",
    "# bokeh_figure.y_range.callback = CustomJS(args=dict(source=plot_data), code=jscode)\n",
    "\n",
    "# configure visual elements of the plot\n",
    "bokeh_figure.title.text_font_size = value('18pt')\n",
    "bokeh_figure.title.align = 'center'\n",
    "bokeh_figure.xaxis.visible = False\n",
    "bokeh_figure.yaxis.visible = False\n",
    "bokeh_figure.grid.grid_line_color = None\n",
    "bokeh_figure.outline_line_color = '#222222'"
   ]
  },
  {
   "cell_type": "code",
   "execution_count": 55,
   "metadata": {
    "scrolled": true
   },
   "outputs": [
    {
     "data": {
      "text/html": [
       "\n",
       "\n",
       "\n",
       "\n",
       "\n",
       "\n",
       "  <div class=\"bk-root\" id=\"64b25190-ec23-4852-95f7-191c8db8291b\" data-root-id=\"1208\"></div>\n"
      ]
     },
     "metadata": {},
     "output_type": "display_data"
    },
    {
     "data": {
      "application/javascript": [
       "(function(root) {\n",
       "  function embed_document(root) {\n",
       "    \n",
       "  var docs_json = {\"07274e0e-5b87-4031-b729-861a183a6e99\":{\"roots\":{\"references\":[{\"attributes\":{\"below\":[{\"id\":\"1219\",\"type\":\"LinearAxis\"}],\"center\":[{\"id\":\"1223\",\"type\":\"Grid\"},{\"id\":\"1228\",\"type\":\"Grid\"}],\"left\":[{\"id\":\"1224\",\"type\":\"LinearAxis\"}],\"outline_line_color\":{\"value\":\"#222222\"},\"plot_height\":700,\"plot_width\":700,\"renderers\":[{\"id\":\"1246\",\"type\":\"GlyphRenderer\"}],\"title\":{\"id\":\"1209\",\"type\":\"Title\"},\"toolbar\":{\"id\":\"1234\",\"type\":\"Toolbar\"},\"x_range\":{\"id\":\"1211\",\"type\":\"DataRange1d\"},\"x_scale\":{\"id\":\"1215\",\"type\":\"LinearScale\"},\"y_range\":{\"id\":\"1213\",\"type\":\"DataRange1d\"},\"y_scale\":{\"id\":\"1217\",\"type\":\"LinearScale\"}},\"id\":\"1208\",\"subtype\":\"Figure\",\"type\":\"Plot\"},{\"attributes\":{},\"id\":\"1230\",\"type\":\"WheelZoomTool\"},{\"attributes\":{},\"id\":\"1264\",\"type\":\"Selection\"},{\"attributes\":{\"overlay\":{\"id\":\"1262\",\"type\":\"BoxAnnotation\"}},\"id\":\"1231\",\"type\":\"BoxZoomTool\"},{\"attributes\":{\"align\":\"center\",\"text\":\"A Map of PodSpace\",\"text_font_size\":{\"value\":\"18pt\"}},\"id\":\"1209\",\"type\":\"Title\"},{\"attributes\":{},\"id\":\"1259\",\"type\":\"BasicTickFormatter\"},{\"attributes\":{\"callback\":null,\"overlay\":{\"id\":\"1263\",\"type\":\"BoxAnnotation\"}},\"id\":\"1232\",\"type\":\"BoxSelectTool\"},{\"attributes\":{\"fill_alpha\":{\"field\":\"fill_alpha\"},\"fill_color\":{\"field\":\"cluster\",\"transform\":{\"id\":\"1206\",\"type\":\"LinearColorMapper\"}},\"line_color\":{\"value\":null},\"size\":{\"units\":\"screen\",\"value\":10},\"x\":{\"field\":\"x\"},\"y\":{\"field\":\"y\"}},\"id\":\"1243\",\"type\":\"Circle\"},{\"attributes\":{},\"id\":\"1215\",\"type\":\"LinearScale\"},{\"attributes\":{},\"id\":\"1233\",\"type\":\"ResetTool\"},{\"attributes\":{\"source\":{\"id\":\"1207\",\"type\":\"ColumnDataSource\"}},\"id\":\"1247\",\"type\":\"CDSView\"},{\"attributes\":{\"active_drag\":\"auto\",\"active_inspect\":\"auto\",\"active_multi\":null,\"active_scroll\":{\"id\":\"1230\",\"type\":\"WheelZoomTool\"},\"active_tap\":\"auto\",\"tools\":[{\"id\":\"1229\",\"type\":\"PanTool\"},{\"id\":\"1230\",\"type\":\"WheelZoomTool\"},{\"id\":\"1231\",\"type\":\"BoxZoomTool\"},{\"id\":\"1232\",\"type\":\"BoxSelectTool\"},{\"id\":\"1233\",\"type\":\"ResetTool\"},{\"id\":\"1240\",\"type\":\"HoverTool\"}]},\"id\":\"1234\",\"type\":\"Toolbar\"},{\"attributes\":{\"fill_color\":{\"value\":\"#1f77b4\"},\"size\":{\"units\":\"screen\",\"value\":10},\"x\":{\"field\":\"x\"},\"y\":{\"field\":\"y\"}},\"id\":\"1245\",\"type\":\"Circle\"},{\"attributes\":{\"bottom_units\":\"screen\",\"fill_alpha\":{\"value\":0.5},\"fill_color\":{\"value\":\"lightgrey\"},\"left_units\":\"screen\",\"level\":\"overlay\",\"line_alpha\":{\"value\":1.0},\"line_color\":{\"value\":\"black\"},\"line_dash\":[4,4],\"line_width\":{\"value\":2},\"render_mode\":\"css\",\"right_units\":\"screen\",\"top_units\":\"screen\"},\"id\":\"1263\",\"type\":\"BoxAnnotation\"},{\"attributes\":{\"data_source\":{\"id\":\"1207\",\"type\":\"ColumnDataSource\"},\"glyph\":{\"id\":\"1243\",\"type\":\"Circle\"},\"hover_glyph\":{\"id\":\"1245\",\"type\":\"Circle\"},\"muted_glyph\":null,\"nonselection_glyph\":{\"id\":\"1244\",\"type\":\"Circle\"},\"selection_glyph\":null,\"view\":{\"id\":\"1247\",\"type\":\"CDSView\"}},\"id\":\"1246\",\"type\":\"GlyphRenderer\"},{\"attributes\":{},\"id\":\"1217\",\"type\":\"LinearScale\"},{\"attributes\":{\"callback\":null,\"data\":{\"cluster\":[0,-1,0,-1,-1,0,1,0,0,0,0,-1,-1,-1,0,-1,-1,-1,-1,0,-1,0,0,0,-1,0,0,-1,-1,-1,0,0,-1,0,-1,-1,1,0,-1,0,-1,0,-1,0,0,-1,-1,-1,-1,0,0,0,0,0,0,-1,0,-1,0,0,-1,-1,1,-1,-1,-1,-1,-1,-1,0,-1],\"fill_alpha\":{\"__ndarray__\":\"L+L/A6kW6z8v4v8DqRbrPy/i/wOpFus/L+L/A6kW6z8v4v8DqRbrPy/i/wOpFus/L+L/A6kW6z8v4v8DqRbrPy/i/wOpFus/L+L/A6kW6z8v4v8DqRbrPy/i/wOpFus/L+L/A6kW6z8v4v8DqRbrPy/i/wOpFus/L+L/A6kW6z8v4v8DqRbrPy/i/wOpFus/L+L/A6kW6z8v4v8DqRbrPy/i/wOpFus/L+L/A6kW6z8v4v8DqRbrPy/i/wOpFus/L+L/A6kW6z8v4v8DqRbrPy/i/wOpFus/L+L/A6kW6z8v4v8DqRbrPy/i/wOpFus/L+L/A6kW6z8v4v8DqRbrPy/i/wOpFus/L+L/A6kW6z8v4v8DqRbrPy/i/wOpFus/L+L/A6kW6z8v4v8DqRbrPy/i/wOpFus/L+L/A6kW6z8v4v8DqRbrPy/i/wOpFus/L+L/A6kW6z8v4v8DqRbrPy/i/wOpFus/L+L/A6kW6z8v4v8DqRbrPy/i/wOpFus/L+L/A6kW6z8v4v8DqRbrPy/i/wOpFus/L+L/A6kW6z8v4v8DqRbrPy/i/wOpFus/L+L/A6kW6z8v4v8DqRbrPy/i/wOpFus/L+L/A6kW6z8v4v8DqRbrPy/i/wOpFus/L+L/A6kW6z8v4v8DqRbrPy/i/wOpFus/L+L/A6kW6z8v4v8DqRbrPy/i/wOpFus/L+L/A6kW6z8v4v8DqRbrPy/i/wOpFus/L+L/A6kW6z8v4v8DqRbrPw==\",\"dtype\":\"float64\",\"shape\":[71]},\"index\":[0,1,2,3,4,5,6,7,8,9,10,11,12,13,14,15,16,17,18,19,20,21,22,23,24,25,26,27,28,29,30,31,32,33,34,35,36,37,38,39,40,41,42,43,44,45,46,47,48,49,50,51,52,53,54,55,56,57,58,59,60,61,62,63,64,65,66,67,68,69,70],\"pod_name\":[\"1A\",\"1YearDailyAudioBible\",\"2DopeQueens\",\"30For30Podcasts\",\"48Hours\",\"60Minutes\",\"83WeekswithEricBischoff\",\"99Invisible\",\"AccidentalTechPodcast\",\"Accused\",\"AceOnTheHouse\",\"AdamCarollaShow\",\"AliceIsntDead\",\"AlisonRosenIsYourNewBestFriend\",\"AmericanHistoryTellers\",\"AndThatsWhyWeDrink\",\"AnnaFarisIsUnqualified\",\"ArmchairExpertwithDaxShepard\",\"ArtofWrestling\",\"AstonishingLegends\",\"AtlantaMonster\",\"BehindtheBastards\",\"Bertcastspodcast\",\"BingeModeHarryPotter\",\"BitchSeshARealHousewivesBreakdown\",\"CLUBLIFE\",\"Caliphate\",\"CommonSensewithDanCarlin\",\"CongratulationswithChrisDElia\",\"CrimeJunkie\",\"CriticalRole\",\"Cults\",\"DISGRACELAND\",\"DanCarlinsHardcoreHistory\",\"DearSugars\",\"DeathSexMoney\",\"DirtyJohn\",\"DuncanTrussellFamilyHour\",\"EarHustle\",\"Embedded\",\"FiveThirtyEightPolitics\",\"ForePlay\",\"FreshAir\",\"GettingCuriouswithJonathanVanNess\",\"GiantBombcast\",\"GirlonGuywithAishaTyler\",\"GuysWeFd\",\"HappierwithGretchenRubin\",\"Heavyweight\",\"HelloFromTheMagicTavern\",\"HeresTheThingwithAlecBaldwin\",\"HiddenBrain\",\"Homecoming\",\"HowDidThisGetMade\",\"HowIBuiltThiswithGuyRaz\",\"IAMRAPAPORTSTEREOPODCAST\",\"ID10TwithChrisHardwick\",\"IfIWereYou\",\"InterceptedwithJeremyScahill\",\"IntheDark\",\"Invisibilia\",\"JalenJacoby\",\"JennaJulienPodcast\",\"JockoPodcast\",\"JudgeJohnHodgman\",\"JuicyScoopwithHeatherMcDonald\",\"KnowledgeFight\",\"LadyGang\",\"PlanetMoney\",\"PodSaveAmerica\",\"SeincastASeinfeldPodcast\"],\"x\":{\"__ndarray__\":\"xIPR/MOQ7z8bWoI+M9juP6nw7mDsXO8/6yB7FjQm7z9BJ5oM517vP9Q3vZ3qiO8/iUe4L2Aq7z9rKiSy4ZrvP1YC9Li8b+8/C9A3FxKT7z8jZno8e4zvP2eVNEToG+8/W6bfwExX7z/kCpLcu3HvP/r5Ccx8lO8/icVnTj8Z7z9IRDdeAA7vP1YUyWU8gO8/iTrx0TiV7z+DnUWehmHvP6RJ2gS5I+8/cX6Qyaug7z+FhrRHN2bvPyAjnxmpqe8/JXwzW6NJ7z+owcK+R2zvPy5g/N+gre8/2rTJucaQ7z9KrLdPq/fuP52MfRAe6u4/vfL493CN7z+0/4jzV3zvP1BL7kXpVe8//NAvwVGD7z+ssiDKvlnvP6tOi3KLP+8/7kUb7VVN7z+B4zr5oIrvP3OrKxDcZ+8/dX+psWpz7z+0UdgdUZbvPx93MmItlu8/WbcIVJVd7z8EreAruY3vP7gUbIzsZu8/Sitj5GB77z9TeBL+kkbvPwS+Pz2+ke8/eS0WEKrz7j96Mjkn+KnvP0o44iQxeO8/aD0Zzmt07z9rYgvDN4PvP6XHEmd5k+8/2aIIVkKn7z9Vwes1lUDvP4HVob8scu8/YNDzS6Zf7z8pD8Hm+I/vPxEb0wz6p+8/wCAWgQ917z+X1fjWjALvP/Sp2MMkIO8/Qo5Nol887z+7QCLPgj3vPwrjjTcMKu8/TNgYEopq7z/nCz5zQ0rvP6drjcLybO8/Q8B36WFo7z+t64G4FF7vPw==\",\"dtype\":\"float64\",\"shape\":[71]},\"y\":{\"__ndarray__\":\"eaEk88pdN7+8jX0F37Kxv9d1R2QmcJY/QPfS1w/HtL/DbKP+4Tm2P0diyaWytJq/4PnvpFNVq7+BqKpVa9uaPzTAL/xZopY/J1tqGFNBhL82UoTpJpaUP7H+3Zc2i8c/YnK5yy4ovj9AMxXyvoyxPwWMj4w6c32/2tsVKCm2tL9qbEXAXIKkvy1LBbTJxaw/9cVo2qArur8U5rcgu+Rtv+B0Db6F5q6/IYgTG6TxSz94wnhEl3aVv0MgO6IY45M/KGhfZ8lbuD/4m6dzT1qUP18FzS466pE/0huqJI74tD/mL+6cARLCv+D9i+Fg5MK/zgWRYEoWVD9I7olXeEdVP0SAIc7KCrk/fm0JBZ3Pkz+97IckOoK1P6UHT1bK0cC/7KWvC+Papb+BbK76gR9dv7/3rIzKXLw/VgnJf03Ngj8RcQFpQiChv+oxznbXG6I/fwwIl0E7sr/EHnxI9iaJP2gXBfAZvnw/Jj/RW4B4tz96fASYP7qzPzna2kz0PLE/GRGupzfevL8KZIr0cz2FP49aLzVC1Yy/+TMsCFETlT+0lDDOHMBsv8Rsqj4euIe/+NLcvjkJpD/VqWmNjSSxP7vDqWxJ4mw/16fznthcuL+FQ+YxtrqfP7wvGTTN4oo/TVhp+EFvor+sKjUGjciwv2XCd5uQbq2/lpVuBbkbuz/cSElWfkGwv2bmTC+y+6i/cSBnq16Lsb8MjlUZfWmwv4m2r77I4K+/sw3gbntjdT92sFYCFZCxPw==\",\"dtype\":\"float64\",\"shape\":[71]}},\"selected\":{\"id\":\"1264\",\"type\":\"Selection\"},\"selection_policy\":{\"id\":\"1265\",\"type\":\"UnionRenderers\"}},\"id\":\"1207\",\"type\":\"ColumnDataSource\"},{\"attributes\":{},\"id\":\"1225\",\"type\":\"BasicTicker\"},{\"attributes\":{},\"id\":\"1265\",\"type\":\"UnionRenderers\"},{\"attributes\":{\"grid_line_color\":null,\"ticker\":{\"id\":\"1220\",\"type\":\"BasicTicker\"}},\"id\":\"1223\",\"type\":\"Grid\"},{\"attributes\":{},\"id\":\"1220\",\"type\":\"BasicTicker\"},{\"attributes\":{\"bottom_units\":\"screen\",\"fill_alpha\":{\"value\":0.5},\"fill_color\":{\"value\":\"lightgrey\"},\"left_units\":\"screen\",\"level\":\"overlay\",\"line_alpha\":{\"value\":1.0},\"line_color\":{\"value\":\"black\"},\"line_dash\":[4,4],\"line_width\":{\"value\":2},\"render_mode\":\"css\",\"right_units\":\"screen\",\"top_units\":\"screen\"},\"id\":\"1262\",\"type\":\"BoxAnnotation\"},{\"attributes\":{\"callback\":null},\"id\":\"1213\",\"type\":\"DataRange1d\"},{\"attributes\":{\"callback\":null},\"id\":\"1211\",\"type\":\"DataRange1d\"},{\"attributes\":{\"fill_alpha\":{\"value\":0.1},\"fill_color\":{\"value\":\"#1f77b4\"},\"line_alpha\":{\"value\":0.1},\"line_color\":{\"value\":\"#1f77b4\"},\"size\":{\"units\":\"screen\",\"value\":10},\"x\":{\"field\":\"x\"},\"y\":{\"field\":\"y\"}},\"id\":\"1244\",\"type\":\"Circle\"},{\"attributes\":{\"dimension\":1,\"grid_line_color\":null,\"ticker\":{\"id\":\"1225\",\"type\":\"BasicTicker\"}},\"id\":\"1228\",\"type\":\"Grid\"},{\"attributes\":{\"formatter\":{\"id\":\"1259\",\"type\":\"BasicTickFormatter\"},\"ticker\":{\"id\":\"1225\",\"type\":\"BasicTicker\"},\"visible\":false},\"id\":\"1224\",\"type\":\"LinearAxis\"},{\"attributes\":{\"formatter\":{\"id\":\"1261\",\"type\":\"BasicTickFormatter\"},\"ticker\":{\"id\":\"1220\",\"type\":\"BasicTicker\"},\"visible\":false},\"id\":\"1219\",\"type\":\"LinearAxis\"},{\"attributes\":{\"callback\":null,\"tooltips\":[[\"pod_name\",\"@pod_name\"],[\"cluster\",\"@cluster\"]]},\"id\":\"1240\",\"type\":\"HoverTool\"},{\"attributes\":{},\"id\":\"1261\",\"type\":\"BasicTickFormatter\"},{\"attributes\":{},\"id\":\"1229\",\"type\":\"PanTool\"},{\"attributes\":{\"high\":1,\"low\":-1,\"palette\":[\"#777777\",\"#0C0786\"]},\"id\":\"1206\",\"type\":\"LinearColorMapper\"}],\"root_ids\":[\"1208\"]},\"title\":\"Bokeh Application\",\"version\":\"1.4.0\"}};\n",
       "  var render_items = [{\"docid\":\"07274e0e-5b87-4031-b729-861a183a6e99\",\"roots\":{\"1208\":\"64b25190-ec23-4852-95f7-191c8db8291b\"}}];\n",
       "  root.Bokeh.embed.embed_items_notebook(docs_json, render_items);\n",
       "\n",
       "  }\n",
       "  if (root.Bokeh !== undefined) {\n",
       "    embed_document(root);\n",
       "  } else {\n",
       "    var attempts = 0;\n",
       "    var timer = setInterval(function(root) {\n",
       "      if (root.Bokeh !== undefined) {\n",
       "        clearInterval(timer);\n",
       "        embed_document(root);\n",
       "      } else {\n",
       "        attempts++;\n",
       "        if (attempts > 100) {\n",
       "          clearInterval(timer);\n",
       "          console.log(\"Bokeh: ERROR: Unable to run BokehJS code because BokehJS library is missing\");\n",
       "        }\n",
       "      }\n",
       "    }, 10, root)\n",
       "  }\n",
       "})(window);"
      ],
      "application/vnd.bokehjs_exec.v0+json": ""
     },
     "metadata": {
      "application/vnd.bokehjs_exec.v0+json": {
       "id": "1208"
      }
     },
     "output_type": "display_data"
    }
   ],
   "source": [
    "# display the figure\n",
    "show(bokeh_figure)"
   ]
  },
  {
   "cell_type": "code",
   "execution_count": 164,
   "metadata": {},
   "outputs": [],
   "source": [
    "db = DBSCAN(eps=0.3, min_samples=10).fit(conditional_prob_matrix)\n",
    "core_samples_mask = np.zeros_like(db.labels_, dtype=bool)\n",
    "core_samples_mask[db.core_sample_indices_] = True\n",
    "labels = db.labels_"
   ]
  },
  {
   "cell_type": "code",
   "execution_count": 165,
   "metadata": {},
   "outputs": [
    {
     "ename": "NameError",
     "evalue": "name 'n_clusters_' is not defined",
     "output_type": "error",
     "traceback": [
      "\u001b[0;31m---------------------------------------------------------------------------\u001b[0m",
      "\u001b[0;31mNameError\u001b[0m                                 Traceback (most recent call last)",
      "\u001b[0;32m<ipython-input-165-0a8fff02a75c>\u001b[0m in \u001b[0;36m<module>\u001b[0;34m\u001b[0m\n\u001b[1;32m     18\u001b[0m              markeredgecolor='k', markersize=6)\n\u001b[1;32m     19\u001b[0m \u001b[0;34m\u001b[0m\u001b[0m\n\u001b[0;32m---> 20\u001b[0;31m \u001b[0mplt\u001b[0m\u001b[0;34m.\u001b[0m\u001b[0mtitle\u001b[0m\u001b[0;34m(\u001b[0m\u001b[0;34m'Estimated number of clusters: %d'\u001b[0m \u001b[0;34m%\u001b[0m \u001b[0mn_clusters_\u001b[0m\u001b[0;34m)\u001b[0m\u001b[0;34m\u001b[0m\u001b[0;34m\u001b[0m\u001b[0m\n\u001b[0m\u001b[1;32m     21\u001b[0m \u001b[0mplt\u001b[0m\u001b[0;34m.\u001b[0m\u001b[0mshow\u001b[0m\u001b[0;34m(\u001b[0m\u001b[0;34m)\u001b[0m\u001b[0;34m\u001b[0m\u001b[0;34m\u001b[0m\u001b[0m\n",
      "\u001b[0;31mNameError\u001b[0m: name 'n_clusters_' is not defined"
     ]
    },
    {
     "data": {
      "image/png": "[encoded data removed]",
      "text/plain": [
       "<Figure size 432x288 with 1 Axes>"
      ]
     },
     "metadata": {
      "needs_background": "light"
     },
     "output_type": "display_data"
    }
   ],
   "source": [
    "# Black removed and is used for noise instead.\n",
    "unique_labels = set(labels)\n",
    "colors = [plt.cm.Spectral(each)\n",
    "          for each in np.linspace(0, 1, len(unique_labels))]\n",
    "for k, col in zip(unique_labels, colors):\n",
    "    if k == -1:\n",
    "        # Black used for noise.\n",
    "        col = [0, 0, 0, 1]\n",
    "\n",
    "    class_member_mask = (labels == k)\n",
    "\n",
    "    xy = reduced_vectors[class_member_mask & core_samples_mask]\n",
    "    plt.plot(xy[:, 0], xy[:, 1], 'o', markerfacecolor=tuple(col),\n",
    "             markeredgecolor='k', markersize=14)\n",
    "\n",
    "    xy = reduced_vectors[class_member_mask & ~core_samples_mask]\n",
    "    plt.plot(xy[:, 0], xy[:, 1], 'o', markerfacecolor=tuple(col),\n",
    "             markeredgecolor='k', markersize=6)\n",
    "\n",
    "plt.title('Estimated number of clusters: %d' % n_clusters_)\n",
    "plt.show()"
   ]
  },
  {
   "cell_type": "code",
   "execution_count": null,
   "metadata": {},
   "outputs": [],
   "source": []
  }
 ],
 "metadata": {
  "kernelspec": {
   "display_name": "Python 3",
   "language": "python",
   "name": "python3"
  },
  "language_info": {
   "codemirror_mode": {
    "name": "ipython",
    "version": 3
   },
   "file_extension": ".py",
   "mimetype": "text/x-python",
   "name": "python",
   "nbconvert_exporter": "python",
   "pygments_lexer": "ipython3",
   "version": "3.7.6"
  }
 },
 "nbformat": 4,
 "nbformat_minor": 4
}
